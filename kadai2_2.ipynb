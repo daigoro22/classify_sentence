{
 "metadata": {
  "language_info": {
   "codemirror_mode": {
    "name": "ipython",
    "version": 3
   },
   "file_extension": ".py",
   "mimetype": "text/x-python",
   "name": "python",
   "nbconvert_exporter": "python",
   "pygments_lexer": "ipython3",
   "version": 3
  },
  "orig_nbformat": 2
 },
 "nbformat": 4,
 "nbformat_minor": 2,
 "cells": [
  {
   "cell_type": "code",
   "execution_count": null,
   "metadata": {},
   "outputs": [],
   "source": [
    "#%%%\n",
    "import nltk\n",
    "from nltk.corpus.util import LazyCorpusLoader\n",
    "from nltk.corpus.reader import *\n",
    "import itertools\n",
    "\n",
    "def get_unique_words(docs):\n",
    "    words_list = []\n",
    "    for d in docs:\n",
    "        words_list += nltk.word_tokenize(d)\n",
    "    return set(words_list)\n",
    "\n",
    "if __name__ == \"__main__\":\n",
    "    # Loading the corpus\n",
    "    ma_reuters = LazyCorpusLoader(\n",
    "        'ma_reuters', CategorizedPlaintextCorpusReader, '(training|test).*',\n",
    "        cat_file='cats.txt', encoding='ISO-8859-2')\n",
    "\n",
    "    # Load MA_Reuters\n",
    "    documents = ma_reuters.fileids()\n",
    "    categories = ma_reuters.categories()\n",
    "    \n",
    "    with open('all_categ.txt','w') as f:\n",
    "        f.write('\\n'.join(categories))\n",
    "\n",
    "    unique_words_dict = {}\n",
    "    for c in categories:\n",
    "        ids = ma_reuters.fileids(c)\n",
    "        docs =[ma_reuters.raw(id) for id in ids]\n",
    "        unique_words_dict[c] = get_unique_words(docs)\n",
    "    \n",
    "    def calc_jaccard(cat1,cat2):\n",
    "        cat1_set = unique_words_dict[cat1]\n",
    "        cat2_set = unique_words_dict[cat2]\n",
    "        intersec = len(set.intersection(cat1_set,cat2_set))\n",
    "        union = len(set.union(cat1_set,cat2_set))\n",
    "        return intersec / union\n",
    "\n",
    "    jaccard_dict = {c:calc_jaccard(c[0],c[1]) for c in itertools.combinations(categories,2)}\n",
    "\n",
    "    jaccard_list = sorted(jaccard_dict.items(),key=lambda x:x[1],reverse=True)\n",
    "\n",
    "    for j in jaccard_list:\n",
    "        print('{}:{}\\n'.format(j[0],j[1]))"
   ]
  }
 ]
}